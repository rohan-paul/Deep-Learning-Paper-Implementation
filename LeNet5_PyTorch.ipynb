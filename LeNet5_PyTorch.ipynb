{
  "cells": [
    {
      "cell_type": "markdown",
      "metadata": {},
      "source": [
        "## Build the architecture of LeNet5 from Scratch\n",
        "\n",
        "# [Link to my Youtube Video Explaining this whole Notebook](https://www.youtube.com/watch?v=Uq5sQUoLXpA&list=PLxqBkZuBynVRyOJs4RWmB_fKlOVe5S8CR&index=9)\n",
        "\n",
        "[![Imgur](https://imgur.com/yEmSfK0.png)](https://www.youtube.com/watch?v=Uq5sQUoLXpA&list=PLxqBkZuBynVRyOJs4RWmB_fKlOVe5S8CR&index=9)\n",
        "\n",
        "There are two main steps after that. \n",
        "\n",
        "First is initializing the layers that we are going to use in our CNN inside __init__ , and \n",
        "\n",
        "Then the other is to define the sequence in which those layers will process the image. This is defined inside the forward function."
      ]
    },
    {
      "cell_type": "markdown",
      "metadata": {},
      "source": [
        "![Imgur](https://imgur.com/yrIrojL.png)\n",
        "\n",
        "The above diagram shows a description of the LeNet-5 architecture as shown in the original document.\n",
        "\n",
        " \n",
        "**Layer 1**- The first layer is the input layer; It is generally not considered a layer of the network as nothing is learned on that layer. The input layer supports 32x32, and these are the dimensions of the images that will be passed to the next layer.\n",
        "\n",
        "The grayscale images used in the research paper had their pixel values normalized from 0 to 255, to values between -0.1 and 1.175. The reason for normalization is to ensure that the batch of images have a mean of 0 and a standard deviation of 1, the benefits of this is seen in the reduction in the amount of training time. In the image classification with LeNet-5 example below, we’ll be normalizing the pixel values of the images to take on values between 0 to 1.\n",
        "\n",
        " \n",
        "**Layer 2**- Layer C1 is a convolution layer with six 5 × 5 convolution kernels, and the feature allocation size is 28 × 28, whereby input image information can be avoided.\n",
        "\n",
        " \n",
        "**Layer 3**- Layer S2 is the undersampling / grouping layer which generates 6 function graphs of length 14x14. Each cell in every function map is attached to 2x2 neighborhoods at the corresponding function map in C1. \n",
        " \n",
        "**Layer 4** - C3 convolution layer encompass sixteen 5x5 convolution kernels The input of the primary six function maps C3 is every continuous subset of the 3 function maps in S2, the access of the following six function maps comes from the access of the 4 continuous subsets and the input for the following 3 function maps is crafted from the 4 discontinuous subsets.Finally, the input for the very last function diagram comes from all the S2 function diagrams. \n",
        " \n",
        "**Layer 5**- Layer S4 is just like S2 with a length of 2x2 and an output of sixteen 5x5 function graphics. \n",
        "\n",
        "**Layer 6**- Layer C5 is a convolution layer with one hundred twenty convolution cores of length 5x5. Each cell is attached to the 5x5 neighborhoods along sixteen S4 function charts. Since the function chart length of S4 is likewise 5x5, the output length of C5 is 1 * 1, so S4 and C5 are absolutely linked.\n",
        "\n",
        "It is referred to as a convolutional layer in preference to a completely linked layer due to the fact if the input of LeNet-5 becomes large and its shape stays unchanged, then its output length is bigger than 1x1, i.e. now no longer a completely linked layer.\n",
        " \n",
        "\n",
        "**Layer 7-** The F6 layer is connected to C5 and 84 feature charts are generated. In the grayscale images used in the research, the pixel values ​​from 0 to 255 were normalized to values ​​between -0.1 and 1,175 The reason for normalization is to make sure the image stack has a mean of 0 and a standard deviation of 1.\n",
        "\n",
        "The advantages of this are in the reduction of the training time. In the following example we will normalize the pixel values ​​of the images to take values ​​between 0 and 1."
      ]
    },
    {
      "cell_type": "code",
      "execution_count": 27,
      "metadata": {
        "colab": {
          "base_uri": "https://localhost:8080/"
        },
        "id": "Vx23hoSrw87A",
        "outputId": "cfd18dde-d1a9-48ca-8107-a93b87d70c9f"
      },
      "outputs": [
        {
          "data": {
            "text/plain": [
              "device(type='cuda')"
            ]
          },
          "execution_count": 27,
          "metadata": {},
          "output_type": "execute_result"
        }
      ],
      "source": [
        "import torch\n",
        "import torch.nn as nn\n",
        "import torchvision\n",
        "import torchvision.transforms as transforms\n",
        "import matplotlib.pyplot as plt\n",
        "\n",
        "import warnings\n",
        "warnings.filterwarnings('ignore')\n",
        "\n",
        "# Device will determine whether to run the training on GPU or CPU.\n",
        "device = torch.device('cuda' if torch.cuda.is_available() else 'cpu')\n",
        "# device = 'cpu'\n",
        "device"
      ]
    },
    {
      "cell_type": "code",
      "execution_count": 17,
      "metadata": {
        "colab": {
          "base_uri": "https://localhost:8080/"
        },
        "id": "SBNQhORMxEpf",
        "outputId": "ab8eca2e-2d95-4535-8de0-c465fedf4577"
      },
      "outputs": [
        {
          "name": "stdout",
          "output_type": "stream",
          "text": [
            "Wed Feb 16 15:15:37 2022       \n",
            "+-----------------------------------------------------------------------------+\n",
            "| NVIDIA-SMI 460.32.03    Driver Version: 460.32.03    CUDA Version: 11.2     |\n",
            "|-------------------------------+----------------------+----------------------+\n",
            "| GPU  Name        Persistence-M| Bus-Id        Disp.A | Volatile Uncorr. ECC |\n",
            "| Fan  Temp  Perf  Pwr:Usage/Cap|         Memory-Usage | GPU-Util  Compute M. |\n",
            "|                               |                      |               MIG M. |\n",
            "|===============================+======================+======================|\n",
            "|   0  Tesla P100-PCIE...  Off  | 00000000:00:04.0 Off |                    0 |\n",
            "| N/A   48C    P0    35W / 250W |   1065MiB / 16280MiB |      0%      Default |\n",
            "|                               |                      |                  N/A |\n",
            "+-------------------------------+----------------------+----------------------+\n",
            "                                                                               \n",
            "+-----------------------------------------------------------------------------+\n",
            "| Processes:                                                                  |\n",
            "|  GPU   GI   CI        PID   Type   Process name                  GPU Memory |\n",
            "|        ID   ID                                                   Usage      |\n",
            "|=============================================================================|\n",
            "+-----------------------------------------------------------------------------+\n"
          ]
        }
      ],
      "source": [
        "!nvidia-smi"
      ]
    },
    {
      "cell_type": "code",
      "execution_count": 18,
      "metadata": {
        "id": "Dt8ZQ7JeGcVL"
      },
      "outputs": [],
      "source": [
        "batch_size = 64\n",
        "num_classes = 10"
      ]
    },
    {
      "cell_type": "markdown",
      "metadata": {},
      "source": [
        "![Imgur](https://imgur.com/yrIrojL.png)"
      ]
    },
    {
      "cell_type": "code",
      "execution_count": null,
      "metadata": {},
      "outputs": [],
      "source": [
        "#Defining the convolutional neural network\n",
        "class LeNet5(nn.Module):\n",
        "    def __init__(self, num_classes):\n",
        "        super(LeNet5, self).__init__()\n",
        "        self.layer1 = nn.Sequential(\n",
        "            nn.Conv2d(1, 6, kernel_size=5, stride=1, padding=0),\n",
        "            # Above is Layer-1 - The input for LeNet-5 is a 32×32 grayscale image which passes through the first convolutional layer with 6 feature maps or filters having size 5×5 and a stride of one. The image dimensions changes from 32x32x1 to 28x28x6.\n",
        "            \n",
        "            nn.BatchNorm2d(6),\n",
        "            nn.ReLU(),\n",
        "            # Layer-2 - Then average pooling layer or sub-sampling layer with a filter size 2×2 and a stride of two. The resulting image dimensions will be reduced to 14x14x6.          \n",
        "            nn.MaxPool2d(kernel_size = 2, stride = 2)\n",
        "        )      \n",
        "        \n",
        "        self.layer2 = nn.Sequential(\n",
        "            nn.Conv2d(6, 16, kernel_size=5, stride=1, padding=0),\n",
        "            # Layer-3 Next, there is a second convolutional layer with 16 feature maps having size 5×5 and a stride of 1. In this layer, only 10 out of 16 feature maps are connected to 6 feature maps of the previous layer\n",
        "            nn.BatchNorm2d(16),\n",
        "            nn.ReLU(),\n",
        "            # Layer-4 The fourth layer (S4) is again an average pooling layer with filter size 2×2 and a stride of 2. This layer is the same as the second layer (S2) except it has 16 feature maps so the output will be reduced to 5x5x16.\n",
        "            nn.MaxPool2d(kernel_size = 2, stride = 2)\n",
        "        )\n",
        "        \n",
        "        self.fc = nn.Linear(400, 120)\n",
        "        ''' Layer-5 The fifth layer (C5) is a fully connected convolutional layer with 120 feature maps each of size 1×1. Each of the 120 units in C5 is connected to all the 400 nodes (5x5x16) in the fourth layer S4. '''\n",
        "        self.relu = nn.ReLU()\n",
        "        '''Layer-6 The sixth layer is a fully connected layer (F6) with 84 units. '''\n",
        "        self.fc1 = nn.Linear(120, 84)\n",
        "        self.relu1 = nn.ReLU()\n",
        "        ''' Layer-7 - Finally, a fully connected layer ŷ with 10 possible values corresponding to the digits from 0 to 9. Since the MNIST data has 10 classes for each of the 10 numerical digits. '''\n",
        "        self.fc2 = nn.Linear(84, num_classes)\n",
        "        \n",
        "    def forward(self, x):\n",
        "        output = self.layer1(x)\n",
        "        output = self.layer2(output)\n",
        "        print('output after layer2', output.size()) # torch.Size([32, 16, 5, 5]\n",
        "        # inside forward method image dimension are : [batch_size, channels, height, width]\n",
        "        output = output.reshape(output.size(0), -1)\n",
        "        # print('output after resize', output.size()) # torch.Size([32, 400])\n",
        "        output = self.fc(output)\n",
        "        output = self.relu(output)\n",
        "        output = self.fc1(output)\n",
        "        output = self.relu1(output)\n",
        "        output = self.fc2(output)\n",
        "        return output"
      ]
    },
    {
      "cell_type": "markdown",
      "metadata": {},
      "source": [
        "\n",
        "## Reason to reshape after `output = self.layer2(output)`\n",
        "\n",
        "In PyTorch, images are represented as [channels, height, width], so a color image would be [3, 256, 256].\n",
        "\n",
        "During the training you will get batches of images, so your shape in the forward method will get an additional batch dimension at dim0: [batch_size, channels, height, width].\n",
        "\n",
        "So before applying the fully connected layer with output-shape of 400, I have to convert the above 4-D Tensor to a 2-D Tensor. \n",
        "And I definitely have to keep the first dimension, which is the batch-size, hence to the `.reshape()` function I am passing the unchanged first dimension of `output.size(0)`\n",
        "\n",
        "But for the second dimension, I am letting PyTorch to decide based on the Matrix calculation. i.e. the second dimension will be inferred given the first dimension.\n",
        "\n",
        "\n",
        "-----------------\n",
        "\n",
        "## where is softmax in above ? \n",
        "\n",
        "If you thought that the last layer in a Neural Network should be some sort of activation function like sigmoid() or softmax(), and we dont see that happening here in the above function.\n",
        "\n",
        "So, where is softmax? And its right here:\n",
        "\n",
        "```py\n",
        "criterion = nn.CrossEntropyLoss()\n",
        "\n",
        "```\n",
        "\n",
        "Inside `nn.CrossEntropyLoss()` function is handled the softmax computation which, of course, works with the raw output of your last layer\n",
        "\n",
        "---\n",
        "\n",
        "## Setting Hyperparameters\n"
      ]
    },
    {
      "cell_type": "markdown",
      "metadata": {
        "id": "XHOaF28qw87C"
      },
      "source": [
        "### Loading the Dataset\n",
        "Using torchvision , we will load the dataset as this will allow us to perform any pre-processing steps easily."
      ]
    },
    {
      "cell_type": "code",
      "execution_count": 19,
      "metadata": {
        "id": "kqUweCDjGe2R"
      },
      "outputs": [],
      "source": [
        "class LeNet5(nn.Module):\n",
        "    def __init__(self,num_classes):\n",
        "        super(LeNet5,self).__init__()\n",
        "        self.layer1 = nn.Sequential(\n",
        "            nn.Conv2d(in_channels=1, out_channels=6, kernel_size=(5,5), stride=(1,1), padding=(0,0)), #Layer 1\n",
        "            nn.BatchNorm2d(6),\n",
        "            nn.ReLU(),\n",
        "            nn.MaxPool2d(kernel_size=(2, 2), stride=(2)) #Layer-2\n",
        "        )                \n",
        "        \n",
        "        self.layer2 = nn.Sequential(\n",
        "            nn.Conv2d(in_channels=6, out_channels=16, kernel_size=(5,5), stride=(1,1), padding=(0,0)), #Layer 3\n",
        "            nn.BatchNorm2d(16),\n",
        "            nn.ReLU(),\n",
        "            nn.MaxPool2d(kernel_size=(2, 2), stride=(2,2)) #Layer 4\n",
        "        )\n",
        "        self.fc = nn.Linear(400, 120) # Layer 5\n",
        "        self.relu = nn.ReLU()\n",
        "        self.fc1 = nn.Linear(120, 84) # Layer 6\n",
        "        self.relu1 = nn.ReLU()\n",
        "        self.fc2 = nn.Linear(84, num_classes) # Final Layer\n",
        "        \n",
        "    def forward(self, x):\n",
        "        output = self.layer1(x)\n",
        "        output = self.layer2(output)\n",
        "        # print('output after layer2', output.size()) # torch.Size([32, 16, 5, 5]\n",
        "        output = output.reshape(output.size(0), -1) # See note below for this line\n",
        "        # print('output after resize', output.size()) # torch.Size([32, 400])\n",
        "        output = self.fc(output)\n",
        "        output = self.relu(output)\n",
        "        output = self.fc1(output)\n",
        "        output = self.relu1(output)\n",
        "        output = self.fc2(output)\n",
        "        return output\n",
        "        "
      ]
    },
    {
      "cell_type": "code",
      "execution_count": 20,
      "metadata": {
        "id": "hg3ntm7uw87E"
      },
      "outputs": [],
      "source": [
        "# Define relevant variables for the ML task\n",
        "\n",
        "''' Keeping num_classes at 10, as this will be the output shape from the final Layer of the LeNet5 Neural Network model, because, the output layer will have 10 output neurons, since the MNIST data has 10 classes for each of the 10 numerical digits. '''\n",
        "\n",
        "train_dataset = torchvision.datasets.MNIST(root = './data',\n",
        "                                           train = True,\n",
        "                                           transform = transforms.Compose([\n",
        "                                                  transforms.Resize((32,32)),\n",
        "                                                  transforms.ToTensor(),\n",
        "                                                  transforms.Normalize(mean = (0.1307,), std = (0.3081,))]),\n",
        "                                           download = True)\n",
        "\n",
        "\n",
        "test_dataset = torchvision.datasets.MNIST(root = './data',\n",
        "                                          train = False,\n",
        "                                          transform = transforms.Compose([\n",
        "                                                  transforms.Resize((32,32)),\n",
        "                                                  transforms.ToTensor(),\n",
        "                                                  transforms.Normalize(mean = (0.1325,), std = (0.3105,))]),\n",
        "                                          download=True)\n",
        "\n",
        "\n",
        "train_dataloader = torch.utils.data.DataLoader(dataset = train_dataset,\n",
        "                                           batch_size = batch_size,\n",
        "                                           shuffle = True)\n",
        "\n",
        "\n",
        "test_dataloader = torch.utils.data.DataLoader(dataset = test_dataset,\n",
        "                                           batch_size = batch_size,\n",
        "                                           shuffle = True)"
      ]
    },
    {
      "cell_type": "markdown",
      "metadata": {
        "id": "PJSNQLNAw87G"
      },
      "source": [
        "## Build the architecture of LeNet5 from Scratch"
      ]
    },
    {
      "cell_type": "code",
      "execution_count": 21,
      "metadata": {
        "id": "QuJAdibTw87G"
      },
      "outputs": [],
      "source": [
        "learning_rate = 0.001\n",
        "\n",
        "model = LeNet5(num_classes).to(device)\n",
        "\n",
        "#Setting the loss function\n",
        "criterion = nn.CrossEntropyLoss()\n",
        "\n",
        "#Setting the optimizer with the model parameters and learning rate\n",
        "optimizer = torch.optim.Adam(model.parameters(), lr=learning_rate)\n",
        "\n",
        "#this is defined to print how many steps are remaining when training\n",
        "total_step = len(train_dataloader)"
      ]
    },
    {
      "cell_type": "code",
      "execution_count": 22,
      "metadata": {
        "colab": {
          "base_uri": "https://localhost:8080/"
        },
        "id": "cLjcifcvGj1H",
        "outputId": "22c12c91-675b-4536-c44b-267fa911dcf1"
      },
      "outputs": [
        {
          "name": "stdout",
          "output_type": "stream",
          "text": [
            "Length of train_dataloader  938\n",
            "Length of test_dataloader  157\n"
          ]
        }
      ],
      "source": [
        "print('Length of train_dataloader ', len(train_dataloader))\n",
        "print('Length of test_dataloader ', len(test_dataloader))"
      ]
    },
    {
      "cell_type": "markdown",
      "metadata": {
        "id": "ZbZJsUIvw87H"
      },
      "source": [
        "## Setting Hyperparameters\n"
      ]
    },
    {
      "cell_type": "code",
      "execution_count": 23,
      "metadata": {
        "id": "Q3f-rT9_w87J"
      },
      "outputs": [],
      "source": [
        "def train(model, criterion, optimizer, num_epochs=10):\n",
        "    total_training_loss = []\n",
        "    total_step = len(train_dataloader)\n",
        "    \n",
        "    for epoch in range(num_epochs):\n",
        "        running_loss = 0.0\n",
        "        \n",
        "        for i, (images, labels) in enumerate(train_dataloader):  \n",
        "            images = images.to(device)\n",
        "            labels = labels.to(device)\n",
        "            \n",
        "            #Forward pass\n",
        "            outputs = model(images)\n",
        "            loss = criterion(outputs, labels)\n",
        "                \n",
        "            # Backward and optimize\n",
        "            optimizer.zero_grad() # Clear the past gradient by set the gradients to zero before every update\n",
        "            loss.backward() #  calculate the new gradients\n",
        "            # print('images.size ', images.size(0))\n",
        "            '''  \"\"\" Update the running loss \n",
        "            we need to use, loss.item() instead of loss alone in running_loss calculation and averaging. \n",
        "            Because loss gives you a grad_function, not a float value. \n",
        "            The item() method extracts the loss’s value as a Python float.\n",
        "            \"\"\" '''\n",
        "            running_loss += loss.item() * images.size(0)\n",
        "            optimizer.step() # we update the weights \n",
        "            \n",
        "                \n",
        "            if (i+1) % 400 == 0:\n",
        "                print ('Epoch [{}/{}], Step [{}/{}], Loss: {:.4f}' \n",
        "                            .format(epoch+1, num_epochs, i+1, total_step, loss.item()))\n",
        "        epoch_loss = running_loss / len(train_dataloader)\n",
        "        total_training_loss.append(epoch_loss)\n",
        "        \"\"\" To summarize, in the above code what I did is\n",
        "      \n",
        "        1. => multiply each average batch loss with batch-length. \n",
        "        The batch-length is inputs.size(0) which gives the number total images in each batch. \n",
        "        Essentially I am un-averaging the Batch-Loss\n",
        "\n",
        "        Do this all the batches inside the batch-running loop.\n",
        "        And then after that loop, i.e. outside the batch-loop and coming back to my epoch-loop\n",
        "        \n",
        "        2. => Divide this accumulated un-averaged Batch-loss from all batches, \n",
        "        by the number of samples (len(train_dataloader)) to get the exact train loss average for the epoch \"\"\"\n",
        "    return total_training_loss"
      ]
    },
    {
      "cell_type": "code",
      "execution_count": 24,
      "metadata": {
        "colab": {
          "base_uri": "https://localhost:8080/"
        },
        "id": "KHSSd1-gC9n4",
        "outputId": "49b9194c-9e42-471e-a3e4-f2b449d018bc"
      },
      "outputs": [
        {
          "name": "stdout",
          "output_type": "stream",
          "text": [
            "Epoch [1/30], Step [400/938], Loss: 0.0270\n",
            "Epoch [1/30], Step [800/938], Loss: 0.1064\n",
            "Epoch [2/30], Step [400/938], Loss: 0.0322\n",
            "Epoch [2/30], Step [800/938], Loss: 0.0453\n",
            "Epoch [3/30], Step [400/938], Loss: 0.0066\n",
            "Epoch [3/30], Step [800/938], Loss: 0.0386\n",
            "Epoch [4/30], Step [400/938], Loss: 0.0346\n",
            "Epoch [4/30], Step [800/938], Loss: 0.0306\n",
            "Epoch [5/30], Step [400/938], Loss: 0.0016\n",
            "Epoch [5/30], Step [800/938], Loss: 0.0295\n",
            "Epoch [6/30], Step [400/938], Loss: 0.0009\n",
            "Epoch [6/30], Step [800/938], Loss: 0.0145\n",
            "Epoch [7/30], Step [400/938], Loss: 0.0020\n",
            "Epoch [7/30], Step [800/938], Loss: 0.0363\n",
            "Epoch [8/30], Step [400/938], Loss: 0.0061\n",
            "Epoch [8/30], Step [800/938], Loss: 0.0026\n",
            "Epoch [9/30], Step [400/938], Loss: 0.0335\n",
            "Epoch [9/30], Step [800/938], Loss: 0.0120\n",
            "Epoch [10/30], Step [400/938], Loss: 0.0395\n",
            "Epoch [10/30], Step [800/938], Loss: 0.0007\n",
            "Epoch [11/30], Step [400/938], Loss: 0.0007\n",
            "Epoch [11/30], Step [800/938], Loss: 0.0060\n",
            "Epoch [12/30], Step [400/938], Loss: 0.0012\n",
            "Epoch [12/30], Step [800/938], Loss: 0.0011\n",
            "Epoch [13/30], Step [400/938], Loss: 0.0221\n",
            "Epoch [13/30], Step [800/938], Loss: 0.0421\n",
            "Epoch [14/30], Step [400/938], Loss: 0.0032\n",
            "Epoch [14/30], Step [800/938], Loss: 0.0059\n",
            "Epoch [15/30], Step [400/938], Loss: 0.0036\n",
            "Epoch [15/30], Step [800/938], Loss: 0.0000\n",
            "Epoch [16/30], Step [400/938], Loss: 0.0000\n",
            "Epoch [16/30], Step [800/938], Loss: 0.0059\n",
            "Epoch [17/30], Step [400/938], Loss: 0.0016\n",
            "Epoch [17/30], Step [800/938], Loss: 0.0001\n",
            "Epoch [18/30], Step [400/938], Loss: 0.0006\n",
            "Epoch [18/30], Step [800/938], Loss: 0.0001\n",
            "Epoch [19/30], Step [400/938], Loss: 0.0001\n",
            "Epoch [19/30], Step [800/938], Loss: 0.0032\n",
            "Epoch [20/30], Step [400/938], Loss: 0.0004\n",
            "Epoch [20/30], Step [800/938], Loss: 0.0001\n",
            "Epoch [21/30], Step [400/938], Loss: 0.0021\n",
            "Epoch [21/30], Step [800/938], Loss: 0.0004\n",
            "Epoch [22/30], Step [400/938], Loss: 0.0050\n",
            "Epoch [22/30], Step [800/938], Loss: 0.0082\n",
            "Epoch [23/30], Step [400/938], Loss: 0.0019\n",
            "Epoch [23/30], Step [800/938], Loss: 0.0000\n",
            "Epoch [24/30], Step [400/938], Loss: 0.0072\n",
            "Epoch [24/30], Step [800/938], Loss: 0.0000\n",
            "Epoch [25/30], Step [400/938], Loss: 0.0002\n",
            "Epoch [25/30], Step [800/938], Loss: 0.0003\n",
            "Epoch [26/30], Step [400/938], Loss: 0.0723\n",
            "Epoch [26/30], Step [800/938], Loss: 0.0000\n",
            "Epoch [27/30], Step [400/938], Loss: 0.0012\n",
            "Epoch [27/30], Step [800/938], Loss: 0.0442\n",
            "Epoch [28/30], Step [400/938], Loss: 0.0257\n",
            "Epoch [28/30], Step [800/938], Loss: 0.0037\n",
            "Epoch [29/30], Step [400/938], Loss: 0.0000\n",
            "Epoch [29/30], Step [800/938], Loss: 0.0000\n",
            "Epoch [30/30], Step [400/938], Loss: 0.0001\n",
            "Epoch [30/30], Step [800/938], Loss: 0.0021\n"
          ]
        }
      ],
      "source": [
        "total_training_loss = train(model, criterion, optimizer, num_epochs=30)"
      ]
    },
    {
      "cell_type": "code",
      "execution_count": 25,
      "metadata": {
        "colab": {
          "base_uri": "https://localhost:8080/"
        },
        "id": "KrAEczZ6DAWx",
        "outputId": "9e683e9f-e5e3-4d80-99cb-ad55338f0657"
      },
      "outputs": [
        {
          "data": {
            "text/plain": [
              "[10.568266467943882,\n",
              " 3.527540081909407,\n",
              " 2.6088559687145545,\n",
              " 2.1823721174309565,\n",
              " 1.924547830021688,\n",
              " 1.6057489041481285,\n",
              " 1.3537017107074425,\n",
              " 1.1566425667095708,\n",
              " 1.1153176984784983,\n",
              " 0.983036599652807,\n",
              " 0.8899051300895366,\n",
              " 0.6929740591073604,\n",
              " 0.7318501428482301,\n",
              " 0.7322920497585915,\n",
              " 0.4553440813554328,\n",
              " 0.6452689993842532,\n",
              " 0.5951177723426396,\n",
              " 0.46549444908607823,\n",
              " 0.48881708133601715,\n",
              " 0.4589629755210131,\n",
              " 0.40898956688392407,\n",
              " 0.433147037635138,\n",
              " 0.3640874308061105,\n",
              " 0.3657881085964735,\n",
              " 0.3087785066473603,\n",
              " 0.3707788242852709,\n",
              " 0.24622227986580741,\n",
              " 0.282929215015277,\n",
              " 0.3211896866044501,\n",
              " 0.24679545621306762]"
            ]
          },
          "execution_count": 25,
          "metadata": {},
          "output_type": "execute_result"
        }
      ],
      "source": [
        "total_training_loss"
      ]
    },
    {
      "cell_type": "code",
      "execution_count": 28,
      "metadata": {
        "colab": {
          "base_uri": "https://localhost:8080/",
          "height": 278
        },
        "id": "gVWgnhLgDACb",
        "outputId": "48899b3d-1325-437f-ea99-d7b4e7a2e617"
      },
      "outputs": [
        {
          "data": {
            "image/png": "[encoded data removed]",
            "text/plain": [
              "<Figure size 432x288 with 1 Axes>"
            ]
          },
          "metadata": {
            "needs_background": "light"
          },
          "output_type": "display_data"
        }
      ],
      "source": [
        "\n",
        "epoch_count = range(1, len(total_training_loss) + 1)\n",
        "\n",
        "# Visualize loss history\n",
        "plt.plot(epoch_count, total_training_loss, 'r--')\n",
        "plt.legend(['Training Loss', 'Test Loss'])\n",
        "plt.xlabel('Epoch')\n",
        "plt.ylabel('Loss')\n",
        "plt.show();"
      ]
    }
  ],
  "metadata": {
    "accelerator": "GPU",
    "colab": {
      "collapsed_sections": [],
      "machine_shape": "hm",
      "name": "LeNet_From_Scratch.ipynb",
      "provenance": []
    },
    "interpreter": {
      "hash": "36cf16204b8548560b1c020c4e8fb5b57f0e4c58016f52f2d4be01e192833930"
    },
    "kernelspec": {
      "display_name": "Python 3.9.10 64-bit",
      "language": "python",
      "name": "python3"
    },
    "language_info": {
      "codemirror_mode": {
        "name": "ipython",
        "version": 3
      },
      "file_extension": ".py",
      "mimetype": "text/x-python",
      "name": "python",
      "nbconvert_exporter": "python",
      "pygments_lexer": "ipython3",
      "version": "3.9.10"
    },
    "orig_nbformat": 4
  },
  "nbformat": 4,
  "nbformat_minor": 0
}
