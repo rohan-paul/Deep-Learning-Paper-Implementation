{
 "cells": [
  {
   "cell_type": "markdown",
   "metadata": {},
   "source": [
    "# [Link to my Youtube Video Explaining this whole Notebook](https://www.youtube.com/watch?v=yOtdN6W4O_0&list=PLxqBkZuBynVRyOJs4RWmB_fKlOVe5S8CR&index=13)\n",
    "\n",
    "[![Imgur](https://imgur.com/kL41U2b.png)](https://www.youtube.com/watch?v=yOtdN6W4O_0&list=PLxqBkZuBynVRyOJs4RWmB_fKlOVe5S8CR&index=13)\n",
    "\n"
   ]
  },
  {
   "cell_type": "code",
   "execution_count": null,
   "metadata": {},
   "outputs": [],
   "source": [
    "from google.colab import drive\n",
    "drive.mount(\"/content/drive\")"
   ]
  },
  {
   "cell_type": "code",
   "execution_count": null,
   "metadata": {},
   "outputs": [],
   "source": [
    "# !python3 \"/content/train.py\"\n",
    "!python train.py"
   ]
  }
 ],
 "metadata": {
  "interpreter": {
   "hash": "36cf16204b8548560b1c020c4e8fb5b57f0e4c58016f52f2d4be01e192833930"
  },
  "kernelspec": {
   "display_name": "Python 3.9.10 64-bit",
   "language": "python",
   "name": "python3"
  },
  "language_info": {
   "name": "python",
   "version": "3.9.10"
  },
  "orig_nbformat": 4
 },
 "nbformat": 4,
 "nbformat_minor": 2
}
